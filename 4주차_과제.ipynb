{
  "nbformat": 4,
  "nbformat_minor": 0,
  "metadata": {
    "colab": {
      "name": "4주차 과제.ipynb의 사본",
      "provenance": [],
      "collapsed_sections": [],
      "include_colab_link": true
    },
    "kernelspec": {
      "name": "python3",
      "display_name": "Python 3"
    }
  },
  "cells": [
    {
      "cell_type": "markdown",
      "metadata": {
        "id": "view-in-github",
        "colab_type": "text"
      },
      "source": [
        "<a href=\"https://colab.research.google.com/github/pchzlfm/pre/blob/master/4%EC%A3%BC%EC%B0%A8_%EA%B3%BC%EC%A0%9C.ipynb\" target=\"_parent\"><img src=\"https://colab.research.google.com/assets/colab-badge.svg\" alt=\"Open In Colab\"/></a>"
      ]
    },
    {
      "cell_type": "markdown",
      "metadata": {
        "id": "wxkL6PjwsI6L",
        "colab_type": "text"
      },
      "source": [
        "# 4주차 과제\n",
        "- 용어 정리\n",
        "- 딥러닝 강의 클론 코딩\n",
        "- 딥러닝 순전파 & 역전파 계산"
      ]
    },
    {
      "cell_type": "markdown",
      "metadata": {
        "id": "ixEtDe6_uGgI",
        "colab_type": "text"
      },
      "source": [
        "## 1. 용어 정리\n",
        "\n",
        "다음 제시된 단어의 정의(설명)를 정리하여 작성 하세요.\n",
        "\n",
        "* 2문장 이상 작성 해 주세요. \n",
        "* 주제(단어)와 크게 벗어나지만 않는다면 정답처리 됩니다.\n",
        "* 강의 뿐 아니라 기타 레퍼런스를 참고하여 작성하셔도 됩니다. (기타 레퍼런스를 참고하신 경우, 해당 레퍼런스를 정리하여 하단에 작성해 주세요.)\n"
      ]
    },
    {
      "cell_type": "markdown",
      "metadata": {
        "id": "0lfwat8eurKZ",
        "colab_type": "text"
      },
      "source": [
        "__(예시)__\n",
        "### 심층 신경망\n",
        ": 입력층과 출력층 사이에 여러 개의 은닉층들로 이뤄진 인공신경망이다. 심층 신경망은 일반적으로 인공신경망과 마찬가지로 복잡한 비선형 관계들을 모델링 할 수 있다. 신층신경망의 목적은 분류 및 수치예측을 하기 위함이고 이미지 트레이닝이나 문자인식과 같은 분야에서 매우 유용하게 쓰이고 있다."
      ]
    },
    {
      "cell_type": "markdown",
      "metadata": {
        "id": "Y8YJNKG_v65A",
        "colab_type": "text"
      },
      "source": [
        "### MCP 뉴런\n",
        ": 1943년에 워랜 맥컬록과 월터 피츠가 발표한 최초의 간소화된 뇌의 뉴런개념이다. 입력부를 통해 다수의 신호를 받아드린 후, 신호가 임계치에 이르면 출력부를 통해 내보내는 이진출력구조로 인간의 뉴런을 표현하였다.\n",
        "\n",
        "### 퍼셉트론\n",
        ": MCP 뉴런을 근간으로한 임계치 모델학습 알고리즘이다. 입력, 가중치, 임계값을 포함한 활성함수, 출력으로 구성되어있으며 활성함수에 오차를 통해 가중치를 업데이트하여 원하는 출력에 가까운 값에 다가간다. \n",
        "\n",
        "### 역전파\n",
        ": 뉴런의 가중치를 효율적으로 조절하는 방법이다. 입력층에서 출력층으로 전달하는 순전파의 방향과 반대로, 출력값과 지도데이터 사이에 생기는 오차를 이용하여 출력층에서 입력층 방향으로 가중치를 조절해 오차를 줄여가는 것이다.\n",
        "\n",
        "### 강화학습\n",
        ": 에이전트의 행동에 따라 환경과 상호작용하며 보상이 최대화되는 형태를 취하는 학습방법이다. 다수의 시행착오를 통해 목표에 근사할 수 있으며, 보상을 최대화하는 방향으로 발전한다.\n",
        "\n",
        "### 과적합\n",
        ": 알고리즘을 구현하는데 학습데이터를 과하게 학습한 현상이다. 데이터 수가 많음으로 학습데이터의 오차가 감소하는 반면 오히려 실제 데이터와 오차가 증가하는 것이다.\n",
        "\n",
        "### 차원의 저주\n",
        ": 훈련데이터 차원이 증가함에 따라 특성공간이 희박해지는 현상이다. 학습에 필요한 데이터가 고차원이 될 수록 해당 모델은 강력해지지만, 오히려 해당공간이 기하급수적으로 증가하여 데이터 밀도가 낮아지고 모델추정이 힘들어진다.\n"
      ]
    },
    {
      "cell_type": "markdown",
      "metadata": {
        "id": "d-zfFXLCy6jD",
        "colab_type": "text"
      },
      "source": [
        "## 2. 딥러닝 강의 클론 코딩\n",
        "\n",
        "####__퍼셉트론 구조 구현하기__ \n",
        "딥러닝 강의(__딥러닝 원리[1] 3:15 ~ 5:15 부분__)를 보고 코드를 따라 치며 출력 결과를 만드세요.\n",
        " \n",
        "\n",
        "* 하나의 코드셀에 해당 코드를 한번에 다 적어서 실행해주세요 (__그렇게 하지 않을 경우, 아래 이미지와 같은 출력값이 나오지 않을 수 있습니다__)\n",
        "\n",
        "*__주의!__ 실제로 코딩해서 출력해보면 강의에 나온 출력 결과와 다르게 나옵니다!!\n"
      ]
    },
    {
      "cell_type": "markdown",
      "metadata": {
        "id": "wcc5mzI9oZ7r",
        "colab_type": "text"
      },
      "source": [
        "![대체 텍스트](https://www.notion.so/image/https%3A%2F%2Fs3-us-west-2.amazonaws.com%2Fsecure.notion-static.com%2F0cceeed0-0235-4b0f-af88-0b8c377d5b4b%2F_2020-06-09__9.35.23.png?table=block&id=88fd8912-9356-49a4-9fda-a1a63fe96ea9&width=2870&cache=v2)"
      ]
    },
    {
      "cell_type": "code",
      "metadata": {
        "id": "36x29shWnerb",
        "colab_type": "code",
        "colab": {
          "base_uri": "https://localhost:8080/",
          "height": 215
        },
        "outputId": "cda9a98d-700b-4dd2-a0ac-d830594a96a0"
      },
      "source": [
        "import tensorflow as tf\n",
        "tf.compat.v1.set_random_seed(2020)\n",
        "x=1\n",
        "y=0\n",
        "w=tf.random.normal([1],0,1)\n",
        "\n",
        "import math\n",
        "def sigmoid(x):\n",
        "  return 1/(1+math.exp(-x))\n",
        "\n",
        "output=sigmoid(x*w)\n",
        "print(output)\n",
        "\n",
        "for i in range(1000):\n",
        "  output=sigmoid(x*w)\n",
        "  error=y-output\n",
        "  w=w+x*0.1*error #경사하강법\n",
        "  \n",
        "  if i % 100 == 99:\n",
        "    print(\"학습함수:\",i,\"Error:\",error,\"예측결과:\",output)\n"
      ],
      "execution_count": null,
      "outputs": [
        {
          "output_type": "stream",
          "text": [
            "0.47477188589261\n",
            "학습함수: 99 Error: -0.10010598284299604 예측결과: 0.10010598284299604\n",
            "학습함수: 199 Error: -0.05178399422833116 예측결과: 0.05178399422833116\n",
            "학습함수: 299 Error: -0.034590451977903586 예측결과: 0.034590451977903586\n",
            "학습함수: 399 Error: -0.02588962752851373 예측결과: 0.02588962752851373\n",
            "학습함수: 499 Error: -0.020658699939863617 예측결과: 0.020658699939863617\n",
            "학습함수: 599 Error: -0.017174253993457355 예측결과: 0.017174253993457355\n",
            "학습함수: 699 Error: -0.014689506449480992 예측결과: 0.014689506449480992\n",
            "학습함수: 799 Error: -0.012829497265431342 예측결과: 0.012829497265431342\n",
            "학습함수: 899 Error: -0.011385568271837804 예측결과: 0.011385568271837804\n",
            "학습함수: 999 Error: -0.010232493309882492 예측결과: 0.010232493309882492\n"
          ],
          "name": "stdout"
        }
      ]
    },
    {
      "cell_type": "markdown",
      "metadata": {
        "id": "kr0HVRk8fOom",
        "colab_type": "text"
      },
      "source": [
        "## 3. 딥러닝 순전파 & 역전파 계산\n",
        "\n",
        "딥러닝 강의(__딥러닝 원리[2] 0:55 ~ 4:32 부분__)에 나오는 순전파 & 역전파 계산에 대한 문제 입니다.\n",
        "\n",
        "해당 영상과 다음 이미지를 참고하여 다음 2가지 물음에 답하세요.\n",
        "\n",
        "\n",
        "(1) 학습률이 0.2 일 경우 출력층의 노드값\n",
        "\n",
        "(2) 학습률이 0.1과 0.2 중 기대출력값이 지도데이터 \"3\"과 더 가까운 학습률은?"
      ]
    },
    {
      "cell_type": "markdown",
      "metadata": {
        "id": "CpwPFWhOUzww",
        "colab_type": "text"
      },
      "source": [
        "![대체 텍스트](https://www.notion.so/image/https%3A%2F%2Fs3-us-west-2.amazonaws.com%2Fsecure.notion-static.com%2Ff54dfd45-92ec-44ae-9616-6949d2484a45%2F_2020-06-10__5.22.03.png?table=block&id=ee05da89-3ceb-4ad9-a2d3-c9f68d24d1d9&width=3580&cache=v2)"
      ]
    },
    {
      "cell_type": "markdown",
      "metadata": {
        "id": "B2OVY7w5U3CI",
        "colab_type": "text"
      },
      "source": [
        "## (1) 학습률이 0.2 일 경우 출력층의 노드값 : 1.6\n",
        "## (2) 학습률이 0.1과 0.2 중 기대출력값이 지도데이터 \"3\"과 더 가까운 학습률은? : 0.1"
      ]
    }
  ]
}