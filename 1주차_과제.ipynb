{
  "nbformat": 4,
  "nbformat_minor": 0,
  "metadata": {
    "colab": {
      "name": "1주차 과제.ipynb",
      "provenance": [],
      "collapsed_sections": [],
      "authorship_tag": "ABX9TyMHLwMLiOpvH5vuRBzqiyCf",
      "include_colab_link": true
    },
    "kernelspec": {
      "name": "python3",
      "display_name": "Python 3"
    }
  },
  "cells": [
    {
      "cell_type": "markdown",
      "metadata": {
        "id": "view-in-github",
        "colab_type": "text"
      },
      "source": [
        "<a href=\"https://colab.research.google.com/github/pchzlfm/-/blob/master/1%EC%A3%BC%EC%B0%A8_%EA%B3%BC%EC%A0%9C.ipynb\" target=\"_parent\"><img src=\"https://colab.research.google.com/assets/colab-badge.svg\" alt=\"Open In Colab\"/></a>"
      ]
    },
    {
      "cell_type": "markdown",
      "metadata": {
        "id": "eL9hpvUyQ98A",
        "colab_type": "text"
      },
      "source": [
        "1주차 과제\n",
        "============\n",
        "\n",
        "* 언어분야 : Timekettle사의 \"WT2 Plus Language Translator\"   \n",
        "<img src=\"https://user-images.githubusercontent.com/66632960/84050592-e522ee80-a9e8-11ea-90e1-43fc2b5f993e.PNG\" width=\"50%\">   \n",
        " * google과 MS사의 AI기반 번역서비스를 사용\n",
        " * 40개의 언어와 93개의 악센트를 구분하여 번역\n",
        " * 대화 문장을 듣고 50초이내에 번역가능\n",
        " * Simul모드, Touch모드, Speaker모드를 지원하여 다양한 상황에서 사용\n",
        "\n",
        "***\n",
        "\n",
        "* 음성분야 : Samsung사의 \"Bixby\"   \n",
        " <img src=\"https://user-images.githubusercontent.com/66632960/84097819-93a64e00-aa40-11ea-970c-e476ea632c2c.PNG\" width=\"50%\">   \n",
        " * 애플'Siri'개발진이 창업한 비브랩스와 삼성내부기술로 만든 인공지능(AI)가상비서\n",
        " * 딥러닝기술을 탑재하여 사용자에 비즈니스, 여가, 생활관련기능을 지원\n",
        " * 9개 언어를 지원하며, 단축명령어를 지정하여 여러기능을 동시수행가능\n",
        " * 휴대폰카매라를 통한 검색, 번역 및 다양한 접근성기능을 제공  \n",
        "\n",
        "***\n",
        "\n",
        "* 이미지분야 : Entrupy사의 \"Entrupy\"   \n",
        " <img src=\"https://user-images.githubusercontent.com/66632960/84099248-1f6da980-aa44-11ea-9fd0-0561e630c7a6.png\" width=\"50%\">   \n",
        " * 물리적 물체의 미세 이미지에 기계 학습알고리즘을 사용하여 제품의 진위여부를 판단\n",
        " * 300만 개의 이미지로 구성된 빅테이더를 기반으로 98%이상의 정확성을 보장\n",
        " * 15개의 브랜드를 구분및 판단하며, 휴대폰과 연동하여 사용\n",
        "\n",
        "***\n",
        "\n",
        "* 자율주행분야 : Audi사의 \"A8 L\"   \n",
        " <img src=\"https://user-images.githubusercontent.com/66632960/84143678-f247e800-aa91-11ea-9a77-234b613a2f76.PNG\" width=\"50%\">   \n",
        " * Radar, Laser Scanner, Cameras, Ultrasound를 이용한 크루즈컨트롤 시스템 장착\n",
        " * AI Traffic Jam Pilot을 탑재하여 교통체증 상황(60km/h이하 주행)시 자율주행수준 lv3정도의 주행가능\n",
        " * 교통정체 해소이후(60km/h이상 주행)에 운전자가  운전대를 잡지 않는경우 비상등 점멸 및 속도감속, 정지 후 audi긴급호출에 자동연결\n",
        "\n",
        "***\n"
      ]
    }
  ]
}